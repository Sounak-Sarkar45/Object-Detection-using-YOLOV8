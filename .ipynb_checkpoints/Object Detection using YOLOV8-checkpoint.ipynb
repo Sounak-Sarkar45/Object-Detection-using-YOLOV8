{
 "cells": [
  {
   "cell_type": "code",
   "execution_count": null,
   "id": "d2480cbb-951e-4c3d-a517-dd209ccb5bc6",
   "metadata": {},
   "outputs": [],
   "source": [
    "from ultralytics import YOLO\n",
    "import cv2"
   ]
  },
  {
   "cell_type": "code",
   "execution_count": null,
   "id": "8886c30f-22ed-4fd8-b96f-461b08ab747b",
   "metadata": {},
   "outputs": [],
   "source": [
    "model=YOLO('yolov8n.pt')"
   ]
  },
  {
   "cell_type": "code",
   "execution_count": null,
   "id": "bc4adb5a-71eb-4074-bf71-77477ba76d0a",
   "metadata": {},
   "outputs": [],
   "source": [
    "video_path='test.mp4'\n",
    "video_path = './test.mp4'\n",
    "cap = cv2.VideoCapture(video_path)\n",
    "\n",
    "ret = True\n",
    "# read frames\n",
    "while ret:\n",
    "    ret, frame = cap.read()\n",
    "\n",
    "    if ret:\n",
    "\n",
    "        # detect objects\n",
    "        # track objects\n",
    "        results = model.track(frame, persist=True)\n",
    "\n",
    "        # plot results\n",
    "        # cv2.rectangle\n",
    "        # cv2.putText\n",
    "        frame_ = results[0].plot()\n",
    "\n",
    "        # visualize\n",
    "        cv2.imshow('frame', frame_)\n",
    "        if cv2.waitKey(25) & 0xFF == ord('q'):\n",
    "            break"
   ]
  }
 ],
 "metadata": {
  "kernelspec": {
   "display_name": "Python 3 (ipykernel)",
   "language": "python",
   "name": "python3"
  },
  "language_info": {
   "codemirror_mode": {
    "name": "ipython",
    "version": 3
   },
   "file_extension": ".py",
   "mimetype": "text/x-python",
   "name": "python",
   "nbconvert_exporter": "python",
   "pygments_lexer": "ipython3",
   "version": "3.8.18"
  }
 },
 "nbformat": 4,
 "nbformat_minor": 5
}
